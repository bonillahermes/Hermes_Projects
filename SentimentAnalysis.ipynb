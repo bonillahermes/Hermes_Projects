{
  "nbformat": 4,
  "nbformat_minor": 0,
  "metadata": {
    "colab": {
      "private_outputs": true,
      "provenance": [],
      "authorship_tag": "ABX9TyM+FxXbG7APLwaKCOyrBh0V",
      "include_colab_link": true
    },
    "kernelspec": {
      "name": "python3",
      "display_name": "Python 3"
    },
    "language_info": {
      "name": "python"
    }
  },
  "cells": [
    {
      "cell_type": "markdown",
      "metadata": {
        "id": "view-in-github",
        "colab_type": "text"
      },
      "source": [
        "<a href=\"https://colab.research.google.com/github/bonillahermes/Hermes_Projects/blob/main/SentimentAnalysis.ipynb\" target=\"_parent\"><img src=\"https://colab.research.google.com/assets/colab-badge.svg\" alt=\"Open In Colab\"/></a>"
      ]
    },
    {
      "cell_type": "markdown",
      "source": [
        "# Análisis de Sentimientos en Videos de YouTube en Español: Un Enfoque Integral Utilizando NLP y Modelos de Transcripción de Audio"
      ],
      "metadata": {
        "id": "_IgOGVo9iFXg"
      }
    },
    {
      "cell_type": "markdown",
      "source": [
        "## Introducción\n",
        "Este proyecto tiene como objetivo realizar un análisis de sentimientos sobre el contenido de videos de YouTube en español. Utilizando diversas herramientas y bibliotecas de procesamiento de lenguaje natural (NLP), el proyecto descarga un video de YouTube, extrae el audio, transcribe el audio a texto y luego analiza el sentimiento del texto resultante. El análisis de sentimientos proporciona una comprensión de la tonalidad general del contenido del video, clasificándolo como positivo, negativo o neutral."
      ],
      "metadata": {
        "id": "sko7IOxJhJiB"
      }
    },
    {
      "cell_type": "markdown",
      "source": [
        "## Descripción del Código y su Uso\n",
        "El código se divide en varias secciones, cada una de las cuales utiliza diferentes bibliotecas para completar tareas específicas:\n",
        "\n",
        "### Descarga y Procesamiento de Videos:\n",
        "\n",
        "- pytube y yt_dlp se utilizan para descargar videos de YouTube.\n",
        "- subprocess y os se utilizan para manejar el procesamiento de archivos y directorios.\n",
        "\n",
        "### Transcripción de Audio:\n",
        "\n",
        "- whisper de OpenAI se utiliza para transcribir el audio del video a texto.\n",
        "\n",
        "### Procesamiento de Lenguaje Natural (NLP):\n",
        "\n",
        "- nltk y spacy se utilizan para tokenizar el texto, eliminar palabras vacías (stop words) y procesar el texto.\n",
        "- Counter de la colección estándar de Python se utiliza para contar la frecuencia de las palabras.\n",
        "- TfidfVectorizer se utiliza para el análisis temático del texto.\n",
        "\n",
        "### Análisis de Sentimientos:\n",
        "\n",
        "- transformers de Hugging Face se utiliza para analizar el sentimiento del texto transcrito, clasificando cada fragmento de texto como positivo, negativo o neutral.\n",
        "\n",
        "### Visualización:\n",
        "\n",
        "- matplotlib.pyplot y WordCloud se utilizan para crear visualizaciones del análisis, como nubes de palabras y gráficos de barras."
      ],
      "metadata": {
        "id": "uJ3VcK_AhOmZ"
      }
    },
    {
      "cell_type": "code",
      "execution_count": null,
      "metadata": {
        "collapsed": true,
        "id": "CYDafBote-j_"
      },
      "outputs": [],
      "source": [
        "# Instalar Whisper, ffmpeg, yt-dlp, pytube, nltk, spacy, y transformers\n",
        "!pip install git+https://github.com/openai/whisper.git\n",
        "!pip install pytube\n",
        "!pip install yt-dlp --upgrade\n",
        "!pip install nltk spacy transformers\n",
        "!sudo apt-get install ffmpeg\n",
        "\n",
        "# Descargar modelos de spaCy para inglés y español\n",
        "!python -m spacy download en_core_web_sm\n",
        "!python -m spacy download es_core_news_sm\n"
      ]
    },
    {
      "cell_type": "code",
      "source": [
        "# Librerías para descarga y procesamiento de videos\n",
        "from pytube import YouTube\n",
        "import subprocess\n",
        "import yt_dlp\n",
        "import os\n",
        "\n",
        "# Librerías para transcripción de audio\n",
        "import whisper\n",
        "\n",
        "# Librerías para procesamiento de lenguaje natural (NLP)\n",
        "import nltk\n",
        "import spacy\n",
        "from nltk.corpus import stopwords\n",
        "from collections import Counter\n",
        "from sklearn.feature_extraction.text import TfidfVectorizer\n",
        "\n",
        "# Librerías para análisis de sentimientos\n",
        "from transformers import pipeline\n",
        "\n",
        "# Librerías para visualización\n",
        "import matplotlib.pyplot as plt\n",
        "from wordcloud import WordCloud\n",
        "\n",
        "# Otras utilidades\n",
        "import string\n"
      ],
      "metadata": {
        "id": "ox9J8YyQf8Ue"
      },
      "execution_count": null,
      "outputs": []
    },
    {
      "cell_type": "code",
      "source": [
        "def download_youtube_video(url, output_path):\n",
        "    ydl_opts = {\n",
        "        'format': 'bestaudio/best',\n",
        "        'outtmpl': f'{output_path}/%(title)s.%(ext)s',\n",
        "        'postprocessors': [{\n",
        "            'key': 'FFmpegExtractAudio',\n",
        "            'preferredcodec': 'wav',\n",
        "            'preferredquality': '192',\n",
        "        }],\n",
        "    }\n",
        "    with yt_dlp.YoutubeDL(ydl_opts) as ydl:\n",
        "        ydl.download([url])\n",
        "\n",
        "video_url = \"https://www.youtube.com/watch?v=-IdmQoLnlS0\"  # Reemplaza con tu URL de YouTube\n",
        "download_youtube_video(video_url, \"/content\")\n",
        "\n",
        "# Identificar el archivo de audio descargado\n",
        "\n",
        "audio_path = None\n",
        "for file in os.listdir(\"/content\"):\n",
        "    if file.endswith(\".wav\"):\n",
        "        audio_path = os.path.join(\"/content\", file)\n",
        "        break\n",
        "\n",
        "if audio_path:\n",
        "    print(f\"Audio descargado en: {audio_path}\")\n",
        "else:\n",
        "    print(\"No se pudo encontrar el archivo de audio.\")\n"
      ],
      "metadata": {
        "id": "Ihe9Hq8kZOfj"
      },
      "execution_count": null,
      "outputs": []
    },
    {
      "cell_type": "code",
      "source": [
        "# Cargar el modelo de Whisper\n",
        "if audio_path:\n",
        "    # Cargar el modelo de Whisper\n",
        "    model = whisper.load_model(\"base\")\n",
        "\n",
        "    # Transcribir el audio\n",
        "    result = model.transcribe(audio_path)\n",
        "    text = result[\"text\"]\n",
        "    print(text)\n",
        "else:\n",
        "    print(\"No se pudo procesar la transcripción porque el archivo de audio no fue encontrado.\")\n",
        "\n"
      ],
      "metadata": {
        "id": "QQZFZJu0gYCo"
      },
      "execution_count": null,
      "outputs": []
    },
    {
      "cell_type": "markdown",
      "source": [
        "### Resultado\n",
        "\n",
        "Gobernos de todo el mundo dudan de los resultados de la elección presidencial del domingo en Venezuela, en la que el presidente Nicolás Maduro fue declarado relegido por la autoridad electoral venezolana. Estados Unidos, Brasil y Colombia cuestionaron el escrutinio que torga Maduro un tercer mandato de seis años, por 51% de los votos, frente a un 44% del candidato de la leaza opositora Edmundo González, Rusia. Nos preocupa seriamente que el resultado anunciado no refleje la voluntad ni los votos del pueblo venezolano, es fundamental que cada voto secuente de manera justa y transparente, que los funcionarios electorales compartan de inmediato la información con la oposición y los observadores independientes sin demora, y que las autoridades electorales publican el recuento detallado de los votos. El gobierno de Gustavo Petro, primer presidente de izquierda de la historia de Colombia y aléado de Maduro, pidió por su parte el conteto total de los votos, su verificación y auditoría de carácter independiente. Lo mismo pidió el presidente de Paraguay, Santiago Peña, quien mencionó los contos de la oposición, que difieren del resultado anunciado por el Consejo Nacional Electoral de Venezuela. Hay un reclamo de la oposición que dicen que de acordadas actas que ellos tienen de todas las mesas, ellos tenían una victoria del 70%, pero eso contradice la versión oficial. Brasília llamó una verificación imparcial de los resultados y Panamá retiro a su personal diplomático de Caracas y puso en sus pensos las relaciones bilaterales mientras que el presidente Chileno Gabriel Borich dijo que los resultados son difíciles de creer. Tienen que ser verificadas por verdores internacionales no dependientes ni partidarios del gobierno. Francia España, la Unión Europea, pidieron total transparencia sobre el proceso y los gobiernos de Argentina, Costa Rica, Ecuador, Guatemala, Perú, República Dominicana y Uruguay exigieron la revisión completa de los resultados. Condenar el fraude electoral perpetrado por el régimen del dictador Nicolás Maduro en la República Bolivarena de Venezuela, Argentina exige total transparencia del recuento de votos, no vamos a convalidar ningún resultado sin el respaldo de los veidores internacionales. El Consejo Permanente de la Organización de Estados Americanos convocó para el miércoles una reunión extraordinaria para abordar los resultados del proceso electoral. Venezuela anunció el retiro de su personal diplomático de Argentina, Chile, Costa Rica, Panamá, Perú, República Dominicana y Uruguay, ante lo que considero ingerensistas acciones de esos países. También pidió que se retiren los diplomáticos de esas naciones acreditados en caracas. China, Rusia, Cuba, Nicaragua, Honduras y Bolivia felicitaron a Maduro y México dijo que reconocer al resultado de las autoridades electorales de Venezuela. Le está dando el trunfo al presidente Maduro.\n"
      ],
      "metadata": {
        "id": "2kdIaTTrnOZm"
      }
    },
    {
      "cell_type": "code",
      "source": [
        "# Descargar recursos de NLTK\n",
        "nltk.download('punkt')\n",
        "nltk.download('stopwords')\n",
        "nlp = spacy.load('es_core_news_sm')\n",
        "\n",
        "# Transcribir el audio\n",
        "text = result[\"text\"]\n",
        "\n",
        "# Tokenización\n",
        "tokens = nltk.word_tokenize(text)\n",
        "\n",
        "# Filtrar stop words y puntuación\n",
        "stop_words = set(stopwords.words('spanish'))\n",
        "filtered_tokens = [word for word in tokens if word.lower() not in stop_words and word not in string.punctuation]\n",
        "\n",
        "# Procesamiento con spaCy\n",
        "doc = nlp(' '.join(filtered_tokens))"
      ],
      "metadata": {
        "id": "q08xYhuga_Lt"
      },
      "execution_count": null,
      "outputs": []
    },
    {
      "cell_type": "code",
      "source": [
        "# Descargar recursos de NLTK\n",
        "nltk.download('punkt')\n",
        "nlp = spacy.load('es_core_news_sm')\n",
        "\n",
        "# Tokenización\n",
        "tokens = nltk.word_tokenize(text)\n",
        "\n",
        "# Procesamiento con spaCy\n",
        "doc = nlp(text)"
      ],
      "metadata": {
        "id": "qPxk6xSio_o0"
      },
      "execution_count": null,
      "outputs": []
    },
    {
      "cell_type": "code",
      "source": [
        "# Frecuencia de palabras\n",
        "word_freq = Counter(filtered_tokens)\n",
        "print(\"Frecuencia de palabras:\", word_freq.most_common(10))"
      ],
      "metadata": {
        "id": "DTSwtOeTq7CP"
      },
      "execution_count": null,
      "outputs": []
    },
    {
      "cell_type": "code",
      "source": [
        "# Entidades nombradas\n",
        "print(\"Entidades nombradas:\")\n",
        "for ent in doc.ents:\n",
        "    print(ent.text, ent.label_)"
      ],
      "metadata": {
        "id": "1eXABOptrzRN"
      },
      "execution_count": null,
      "outputs": []
    },
    {
      "cell_type": "code",
      "source": [
        "# Función para dividir el texto en oraciones\n",
        "def split_into_sentences(text):\n",
        "    return nltk.sent_tokenize(text)\n",
        "\n",
        "# Análisis de sentimientos con modelo específico para español\n",
        "sentiment_analysis = pipeline(\"sentiment-analysis\", model=\"nlptown/bert-base-multilingual-uncased-sentiment\")\n",
        "\n",
        "# Función para mapear etiquetas de estrellas a sentimientos\n",
        "def map_sentiment(label):\n",
        "    if label in ['1 star', '2 stars']:\n",
        "        return 'negativo'\n",
        "    elif label == '3 stars':\n",
        "        return 'neutral'\n",
        "    elif label in ['4 stars', '5 stars']:\n",
        "        return 'positivo'\n",
        "    return 'desconocido'\n",
        "\n",
        "# Dividir el texto en oraciones y analizar cada oración\n",
        "sentiments = []\n",
        "for sentence in split_into_sentences(text):\n",
        "    sentiment = sentiment_analysis(sentence)\n",
        "    sentiment_label = sentiment[0]['label']\n",
        "    sentiment_score = sentiment[0]['score']\n",
        "    sentiment_mapped = map_sentiment(sentiment_label)\n",
        "    sentiments.append((sentence, sentiment_label, sentiment_score, sentiment_mapped))\n",
        "\n",
        "# Mostrar los resultados\n",
        "print(\"Análisis de Sentimientos por Oración:\")\n",
        "for i, (sentence, label, score, mapped) in enumerate(sentiments):\n",
        "    print(f\"Oración {i + 1}: {sentence}\")\n",
        "    print(f\"Sentimiento: {mapped} (Label: {label}, Score: {score})\\n\")"
      ],
      "metadata": {
        "id": "PF89qEnLsOSP"
      },
      "execution_count": null,
      "outputs": []
    },
    {
      "cell_type": "code",
      "source": [
        "# Crear listas de sentimientos y puntuaciones\n",
        "sentiment_labels = [mapped for _, _, _, mapped in sentiments]\n",
        "scores = [score for _, _, score, _ in sentiments]\n",
        "\n",
        "# Contar las ocurrencias de cada sentimiento\n",
        "sentiment_counts = Counter(sentiment_labels)\n",
        "\n",
        "# Graficar los resultados\n",
        "labels = sentiment_counts.keys()\n",
        "sizes = sentiment_counts.values()\n",
        "\n",
        "plt.figure(figsize=(8, 5))\n",
        "plt.bar(labels, sizes, color=['red', 'yellow', 'green'])\n",
        "plt.xlabel('Sentimientos')\n",
        "plt.ylabel('Frecuencia')\n",
        "plt.title('Frecuencia de Sentimientos en el Discurso')\n",
        "plt.show()"
      ],
      "metadata": {
        "id": "-GaKcEvtfXHS"
      },
      "execution_count": null,
      "outputs": []
    },
    {
      "cell_type": "markdown",
      "source": [
        "## Interpretación de Resultados\n",
        "- Sentimiento Predominante: La mayoría de las oraciones son clasificadas como negativas, lo cual refleja un sentimiento general desfavorable en el discurso analizado.\n",
        "- Sentimientos Positivos: Hay pocas oraciones clasificadas como positivas, indicando momentos aislados de positividad o neutralidad."
      ],
      "metadata": {
        "id": "RcZsbD3Jfahp"
      }
    },
    {
      "cell_type": "markdown",
      "source": [
        "## Conclusión\n",
        "Este proyecto proporciona un enfoque integral para analizar los sentimientos de los videos de YouTube en español. Utilizando una combinación de herramientas y técnicas de procesamiento de lenguaje natural, el código permite descargar, transcribir y analizar el contenido de los videos, ofreciendo una visión de los sentimientos predominantes en el discurso analizado."
      ],
      "metadata": {
        "id": "bH09wNC1h0VP"
      }
    }
  ]
}